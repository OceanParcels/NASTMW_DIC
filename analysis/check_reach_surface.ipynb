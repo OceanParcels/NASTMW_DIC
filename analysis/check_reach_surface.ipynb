{
 "cells": [
  {
   "cell_type": "code",
   "execution_count": 1,
   "metadata": {},
   "outputs": [],
   "source": [
    "import numpy as np\n",
    "import matplotlib.pyplot as plt\n",
    "import xarray as xr"
   ]
  },
  {
   "cell_type": "code",
   "execution_count": 2,
   "metadata": {},
   "outputs": [],
   "source": [
    "data_dir = \"/nethome/4302001/output_data/EDW_trajectories_postprocessed/\""
   ]
  },
  {
   "cell_type": "code",
   "execution_count": 19,
   "metadata": {},
   "outputs": [],
   "source": [
    "ds_1 = xr.open_dataset(data_dir + \"EDW_wfluxes_B_1996-09-01_1095d_dt90_odt24.nc\")"
   ]
  },
  {
   "cell_type": "code",
   "execution_count": null,
   "metadata": {},
   "outputs": [],
   "source": [
    "years = np.arange(1995, 2016)"
   ]
  },
  {
   "cell_type": "code",
   "execution_count": 33,
   "metadata": {},
   "outputs": [],
   "source": [
    "forward_reach_surface_traj = np.zeros(len(years))\n",
    "backward_reach_surface_traj = np.zeros(len(years))\n",
    "forward_total_traj = np.zeros(len(years))\n",
    "backward_total_traj = np.zeros(len(years))\n",
    "forward_reach_surface_obs = np.zeros(len(years))\n",
    "backward_reach_surface_obs = np.zeros(len(years))\n",
    "forward_total_obs = np.zeros(len(years))\n",
    "backward_total_obs = np.zeros(len(years))"
   ]
  },
  {
   "cell_type": "code",
   "execution_count": 34,
   "metadata": {},
   "outputs": [],
   "source": [
    "import tqdm"
   ]
  },
  {
   "cell_type": "code",
   "execution_count": 35,
   "metadata": {},
   "outputs": [
    {
     "name": "stderr",
     "output_type": "stream",
     "text": [
      "21it [00:06,  3.25it/s]\n"
     ]
    }
   ],
   "source": [
    "for idx, year in tqdm.tqdm(enumerate(years)):\n",
    "    ds_forw = xr.open_dataset(data_dir + f\"EDW_wfluxes_B_{year}-09-01_1095d_dt90_odt24.nc\").isel(obs=slice(0, 366))\n",
    "    ds_back = xr.open_dataset(data_dir + f\"EDW_wfluxes_B_{year}-09-01_1095d_dt-90_odt24.nc\").isel(obs=slice(0, 366))\n",
    "\n",
    "    forward_reach_surface_traj[idx] = int((ds_forw.z < 1).any('obs').sum().values)\n",
    "    backward_reach_surface_traj[idx] = int((ds_back.z < 1).any('obs').sum().values)\n",
    "\n",
    "    forward_total_traj[idx] = ds_1.trajectory.size\n",
    "    backward_total_traj[idx] = ds_1.trajectory.size\n",
    "\n",
    "    forward_reach_surface_obs[idx] = int((ds_forw.z < 1).sum().values)\n",
    "    backward_reach_surface_obs[idx] = int((ds_back.z < 1).sum().values)\n",
    "\n",
    "    forward_total_obs[idx] = ds_forw.z.size\n",
    "    backward_total_obs[idx] = ds_back.z.size"
   ]
  },
  {
   "cell_type": "code",
   "execution_count": 36,
   "metadata": {},
   "outputs": [
    {
     "data": {
      "text/plain": [
       "array([0., 0., 0., 0., 0., 0., 0., 0., 0., 0., 0., 0., 0., 0., 0., 0., 0.,\n",
       "       0., 0., 0., 0.])"
      ]
     },
     "execution_count": 36,
     "metadata": {},
     "output_type": "execute_result"
    }
   ],
   "source": [
    "forward_reach_surface_traj"
   ]
  },
  {
   "cell_type": "code",
   "execution_count": 43,
   "metadata": {},
   "outputs": [
    {
     "data": {
      "text/plain": [
       "array([17., 14., 13.,  7., 13.,  6., 11.,  4.,  1., 11., 20., 12.,  6.,\n",
       "       14.,  8., 16.,  3.,  3.,  6.,  4.,  9.])"
      ]
     },
     "execution_count": 43,
     "metadata": {},
     "output_type": "execute_result"
    }
   ],
   "source": [
    "backward_reach_surface_traj"
   ]
  },
  {
   "cell_type": "code",
   "execution_count": 42,
   "metadata": {},
   "outputs": [
    {
     "data": {
      "text/plain": [
       "0.0273768043802887"
      ]
     },
     "execution_count": 42,
     "metadata": {},
     "output_type": "execute_result"
    }
   ],
   "source": [
    "(backward_reach_surface_traj / backward_total_traj).mean() * 100"
   ]
  }
 ],
 "metadata": {
  "kernelspec": {
   "display_name": "analysis",
   "language": "python",
   "name": "python3"
  },
  "language_info": {
   "codemirror_mode": {
    "name": "ipython",
    "version": 3
   },
   "file_extension": ".py",
   "mimetype": "text/x-python",
   "name": "python",
   "nbconvert_exporter": "python",
   "pygments_lexer": "ipython3",
   "version": "3.12.0"
  }
 },
 "nbformat": 4,
 "nbformat_minor": 2
}
